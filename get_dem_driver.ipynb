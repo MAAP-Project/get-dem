{
 "cells": [
  {
   "cell_type": "code",
   "execution_count": 1,
   "id": "2fe4b4f7-7ebb-45c8-9327-f16be0304b3c",
   "metadata": {
    "tags": []
   },
   "outputs": [],
   "source": [
    "# import the MAAP package to handle queries\n",
    "from maap.maap import MAAP\n",
    "\n",
    "import get_dem"
   ]
  },
  {
   "cell_type": "markdown",
   "id": "25eeef24-436b-4528-987a-e9b295bda513",
   "metadata": {},
   "source": [
    "# Choose bounding box\n",
    "\n",
    "The bounding box should be a single string of four lat/lon, in the order:\n",
    "[left  bottom  right top]"
   ]
  },
  {
   "cell_type": "code",
   "execution_count": 8,
   "id": "12b6aeba-3ae9-49b5-9d4b-89af20ea7871",
   "metadata": {
    "tags": []
   },
   "outputs": [],
   "source": [
    "\n",
    "bbox = '-118.06817 34.22169 -118.05801 34.22822'  # Mt Wilson (near JPL)\n",
    "# bbox = '-124.81360 32.44506 -113.75989 42.24498' # CA and NV\n",
    "# bbox = '-125.53514 25.42150  -87.06960 49.22105' # Western US (CA, WA, Chicago, New Orleans)\n",
    "# bbox = '-125.41615 31.03621 -101.80916 49.17324' # Western US (CA -> CO)\n",
    "# bbox =   '36.22293  6.42000   47.17150 18.70244'  # Africa\n",
    "# bbox =    '6.26868 36.00380   18.57179 47.28139'  # Italy\n"
   ]
  },
  {
   "cell_type": "markdown",
   "id": "4fc9f11f-a564-433e-ab9c-be4c31b8cdc7",
   "metadata": {},
   "source": [
    "## For testing, Run in the ADE"
   ]
  },
  {
   "cell_type": "code",
   "execution_count": 3,
   "id": "cf34ff88-e33f-4997-b847-54cdd82b83ae",
   "metadata": {
    "collapsed": true,
    "jupyter": {
     "outputs_hidden": true
    },
    "tags": []
   },
   "outputs": [
    {
     "name": "stdout",
     "output_type": "stream",
     "text": [
      "Retrieving notices: ...working... done\n",
      "Channels:\n",
      " - conda-forge\n",
      " - defaults\n",
      "Platform: linux-64\n",
      "Collecting package metadata (repodata.json): done\n",
      "Solving environment: done\n",
      "\n",
      "\n",
      "==> WARNING: A newer version of conda exists. <==\n",
      "    current version: 23.7.4\n",
      "    latest version: 23.11.0\n",
      "\n",
      "Please update conda by running\n",
      "\n",
      "    $ conda update -n base -c conda-forge conda\n",
      "\n",
      "\n",
      "\n",
      "Downloading and Extracting Packages\n",
      "certifi-2023.11.17   | 155 KB    |                                       |   0% \n",
      "sardem-0.11.3        | 31 KB     |                                       |   0% \u001b[A\n",
      "\n",
      "ca-certificates-2023 | 151 KB    |                                       |   0% \u001b[A\u001b[A\n",
      "\n",
      "\n",
      "openssl-3.2.0        | 2.7 MB    |                                       |   0% \u001b[A\u001b[A\u001b[A\n",
      "\n",
      "ca-certificates-2023 | 151 KB    | ###########8                          |  32% \u001b[A\u001b[A\n",
      "\n",
      "ca-certificates-2023 | 151 KB    | ##################################### | 100% \u001b[A\u001b[A\n",
      "\n",
      "\n",
      "certifi-2023.11.17   | 155 KB    | ###8                                  |  10% \u001b[A\u001b[A\u001b[A\n",
      "\n",
      "\n",
      "certifi-2023.11.17   | 155 KB    | ##############################5       |  82% \u001b[A\u001b[A\u001b[A\n",
      "sardem-0.11.3        | 31 KB     | ###################                   |  52% \u001b[A\n",
      "certifi-2023.11.17   | 155 KB    | ##################################### | 100% \u001b[A\n",
      "\n",
      "\n",
      "openssl-3.2.0        | 2.7 MB    | #########################7            |  69% \u001b[A\u001b[A\u001b[A\n",
      "\n",
      "\n",
      "openssl-3.2.0        | 2.7 MB    | ##################################### | 100% \u001b[A\u001b[A\u001b[A\n",
      "\n",
      "\n",
      "                                                                                \u001b[A\u001b[A\u001b[A\n",
      "                                                                                \u001b[A\n",
      "\n",
      "                                                                                \u001b[A\u001b[A\n",
      "\n",
      "\n",
      "                                                                                \u001b[A\u001b[A\u001b[A\n",
      "Preparing transaction: done\n",
      "Verifying transaction: done\n",
      "Executing transaction: done\n",
      "#\n",
      "# To activate this environment, use\n",
      "#\n",
      "#     $ conda activate base\n",
      "#\n",
      "# To deactivate an active environment, use\n",
      "#\n",
      "#     $ conda deactivate\n",
      "\n"
     ]
    }
   ],
   "source": [
    "!conda env update -n base --file environment.yaml"
   ]
  },
  {
   "cell_type": "code",
   "execution_count": 9,
   "id": "ebdebc32-4fb2-44f3-9010-0a82b3d52da7",
   "metadata": {
    "tags": []
   },
   "outputs": [
    {
     "name": "stderr",
     "output_type": "stream",
     "text": [
      "[01/25 19:24:29] [INFO dem.py] Bounds: -118.06817 34.22169 -118.05801 34.22822\n",
      "[01/25 19:24:29] [INFO cop_dem.py] Creating output/dem.tif\n",
      "[01/25 19:24:29] [INFO cop_dem.py] Fetching remote tiles...\n",
      "[01/25 19:24:29] [INFO cop_dem.py] Running GDAL command:\n",
      "[01/25 19:24:29] [INFO cop_dem.py] gdalwarp /vsicurl/https://raw.githubusercontent.com/scottstanie/sardem/master/sardem/data/cop_global.vrt output/dem.tif -of GTiff -ot Int16 -te -118.068169999999995 34.2216900000000024 -118.058009999999996 34.2282200000000003 -tr 0.000277777777777777778 0.000277777777777777778 -s_srs \"epsg:4326+3855\" -t_srs \"epsg:4326\" -wo NUM_THREADS=4 -r nearest -wm 5000 -multi\n"
     ]
    },
    {
     "name": "stdout",
     "output_type": "stream",
     "text": [
      "Creating output file that is 37P x 24L.\n",
      "0...10...20...30...40...50...60...70...80...90...100 - done.\n",
      "Time to make DEM: 8.123727798461914 seconds\n"
     ]
    }
   ],
   "source": [
    "# WARNING - only use for testing! Not DPS!\n",
    "import importlib; importlib.reload(get_dem)\n",
    "from time import time\n",
    "\n",
    "# Build a DEM\n",
    "start = time()\n",
    "\n",
    "get_dem.get_dem(bbox, \"output\")\n",
    "\n",
    "print(f\"Time to make DEM: {time()-start} seconds\")\n"
   ]
  },
  {
   "cell_type": "markdown",
   "id": "c2b897d5-5ee7-4397-9d8f-3649e39be7c6",
   "metadata": {},
   "source": [
    "## Launch jobs in DPS"
   ]
  },
  {
   "cell_type": "code",
   "execution_count": null,
   "id": "0d97a875-1c6e-4712-8bdd-d59410c48ca9",
   "metadata": {},
   "outputs": [],
   "source": [
    "# Register Algorithm from YAML file\n",
    "maap = MAAP()\n",
    "\n",
    "maap.register_algorithm_from_yaml_file(\"/projects/GET-DEM-v0.1.0.yml\").text"
   ]
  }
 ],
 "metadata": {
  "kernelspec": {
   "display_name": "Python 3 (ipykernel)",
   "language": "python",
   "name": "python3"
  },
  "language_info": {
   "codemirror_mode": {
    "name": "ipython",
    "version": 3
   },
   "file_extension": ".py",
   "mimetype": "text/x-python",
   "name": "python",
   "nbconvert_exporter": "python",
   "pygments_lexer": "ipython3",
   "version": "3.10.12"
  }
 },
 "nbformat": 4,
 "nbformat_minor": 5
}

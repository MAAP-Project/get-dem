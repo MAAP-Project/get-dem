{
 "cells": [
  {
   "cell_type": "code",
   "execution_count": 4,
   "id": "2fe4b4f7-7ebb-45c8-9327-f16be0304b3c",
   "metadata": {
    "tags": []
   },
   "outputs": [],
   "source": [
    "# import the MAAP package to handle queries\n",
    "from maap.maap import MAAP\n"
   ]
  },
  {
   "cell_type": "markdown",
   "id": "25eeef24-436b-4528-987a-e9b295bda513",
   "metadata": {},
   "source": [
    "# Choose bounding box\n",
    "\n",
    "The bounding box should be a single string of four lat/lon, in the order:\n",
    "[left  bottom  right top]"
   ]
  },
  {
   "cell_type": "code",
   "execution_count": 6,
   "id": "12b6aeba-3ae9-49b5-9d4b-89af20ea7871",
   "metadata": {
    "tags": []
   },
   "outputs": [],
   "source": [
    "bbox = '-118.06817 34.22169 -118.05801 34.22822'  # Mt Wilson (near JPL) (small, ~8 sec)\n",
    "# bbox = '-124.81360 32.44506 -113.75989 42.24498' # CA and NV (uses ~5-6 GB RAM, takes a few minutes to run)\n",
    "# bbox = '-125.53514 25.42150  -87.06960 49.22105' # Western US (CA, WA, Chicago, New Orleans)\n",
    "# bbox = '-125.41615 31.03621 -101.80916 49.17324' # Western US (CA -> CO)\n",
    "# bbox =    '6.26868 36.00380   18.57179 47.28139'  # Italy (Requires more than 8 GB RAM)\n"
   ]
  },
  {
   "cell_type": "markdown",
   "id": "c2b897d5-5ee7-4397-9d8f-3649e39be7c6",
   "metadata": {},
   "source": [
    "## Launch jobs in DPS\n",
    "\n",
    "If you're still in development, skip this section\n",
    "and jump to \"Test Run in ADE\" section below.\n",
    "\n",
    "It's faster to test the algorithm in the ADE first, and\n",
    "then run it on DPS."
   ]
  },
  {
   "cell_type": "code",
   "execution_count": 3,
   "id": "0d97a875-1c6e-4712-8bdd-d59410c48ca9",
   "metadata": {},
   "outputs": [
    {
     "data": {
      "text/plain": [
       "'{\"code\": 200, \"message\": {\"id\": \"e24b670f96359f777d4ce1e98ebd3acdd57beb72\", \"short_id\": \"e24b670f\", \"created_at\": \"2024-01-26T21:15:39.000+00:00\", \"parent_ids\": [\"1602b35737e86ad6910ca20eb1c8fd62f6033d50\"], \"title\": \"Registering algorithm: GET-DEM-v0.1.0\", \"message\": \"Registering algorithm: GET-DEM-v0.1.0\", \"author_name\": \"root\", \"author_email\": \"root@8e29c9ef876b\", \"authored_date\": \"2024-01-26T21:15:39.000+00:00\", \"committer_name\": \"root\", \"committer_email\": \"root@8e29c9ef876b\", \"committed_date\": \"2024-01-26T21:15:39.000+00:00\", \"trailers\": {}, \"web_url\": \"https://repo.maap-project.org/root/register-job-hysds-v4/-/commit/e24b670f96359f777d4ce1e98ebd3acdd57beb72\", \"stats\": {\"additions\": 0, \"deletions\": 0, \"total\": 0}, \"status\": \"created\", \"project_id\": 3, \"last_pipeline\": {\"id\": 11683, \"iid\": 751, \"project_id\": 3, \"sha\": \"e24b670f96359f777d4ce1e98ebd3acdd57beb72\", \"ref\": \"main\", \"status\": \"created\", \"source\": \"push\", \"created_at\": \"2024-01-26T21:15:40.325Z\", \"updated_at\": \"2024-01-26T21:15:40.325Z\", \"web_url\": \"https://repo.maap-project.org/root/register-job-hysds-v4/-/pipelines/11683\"}, \"job_web_url\": \"https://repo.maap-project.org/root/register-job-hysds-v4/-/jobs/11943\", \"job_log_url\": \"https://repo.maap-project.org/root/register-job-hysds-v4/-/jobs/11943/raw\"}}\\n'"
      ]
     },
     "execution_count": 3,
     "metadata": {},
     "output_type": "execute_result"
    }
   ],
   "source": [
    "# Register Algorithm from YAML file\n",
    "# maap = MAAP()\n",
    "# maap.register_algorithm_from_yaml_file(\"/projects/GET-DEM-v0.1.0.yml\").text"
   ]
  },
  {
   "cell_type": "code",
   "execution_count": 7,
   "id": "2a5fdce7-3d2a-4bee-a41e-7a14c4c8f660",
   "metadata": {
    "tags": []
   },
   "outputs": [],
   "source": [
    "# Submit DPS Job\n",
    "maap = MAAP()\n",
    "\n",
    "jobs = []\n",
    "\n",
    "for job_num in range(2):\n",
    "    jobs.append(\n",
    "        maap.submitJob(\n",
    "            identifier=\"test2\",  # create a unique job identifier\n",
    "            algo_id=\"GET-DEM-v0.1.0\",\n",
    "            version=\"develop\",\n",
    "            username=\"niemoell\",\n",
    "            queue=\"maap-dps-worker-4vcpu-8gb\",\n",
    "            bbox=bbox  # for benchmarking consistency, use same bbox for all jobs\n",
    "        )\n",
    "    )\n"
   ]
  },
  {
   "cell_type": "code",
   "execution_count": 19,
   "id": "bca234c0-c69d-48c8-be4b-ce75e176cce3",
   "metadata": {
    "tags": []
   },
   "outputs": [
    {
     "name": "stdout",
     "output_type": "stream",
     "text": [
      "failed:  0\n",
      "accepted:  0\n",
      "running:  0\n",
      "succeeded:  0\n",
      "except:  2\n"
     ]
    }
   ],
   "source": [
    "# Monitor the job status via JN.\n",
    "# For a GUI, go to \"View and Submit Jobs\" via the Launcher\n",
    "n_failed = 0\n",
    "n_succeeded = 0\n",
    "n_running = 0\n",
    "n_except = 0\n",
    "n_accepted = 0\n",
    "\n",
    "for j in jobs:\n",
    "    try:\n",
    "        j.retrieve_attributes()\n",
    "    except:\n",
    "        n_except += 1\n",
    "        continue\n",
    "    if j.status.lower() == 'failed':\n",
    "        n_failed += 1\n",
    "    elif j.status.lower() == 'succeeded':\n",
    "        n_succeeded += 1\n",
    "    elif j.status.lower() == 'running':\n",
    "        n_running += 1\n",
    "    elif j.status.lower() == 'accepted':\n",
    "        n_accepted += 1\n",
    "    else:\n",
    "        print(j.status)\n",
    "\n",
    "print(\"failed: \", n_failed)\n",
    "print(\"accepted: \", n_accepted)\n",
    "print(\"running: \", n_running)\n",
    "print(\"succeeded: \", n_succeeded)\n",
    "print(\"except: \", n_except)"
   ]
  },
  {
   "cell_type": "code",
   "execution_count": 20,
   "id": "504f0103-e92c-428c-93e1-88837aa44b8d",
   "metadata": {
    "tags": []
   },
   "outputs": [
    {
     "name": "stdout",
     "output_type": "stream",
     "text": [
      "{'job_id': '2ddea507-35c8-44d3-a54f-526467c51d11', 'status': 'success', 'machine_type': None, 'architecture': None, 'machine_memory_size': None, 'directory_size': None, 'operating_system': None, 'job_start_time': None, 'job_end_time': None, 'job_duration_seconds': None, 'cpu_usage': None, 'cache_usage': None, 'mem_usage': None, 'max_mem_usage': None, 'swap_usage': None, 'read_io_stats': None, 'write_io_stats': None, 'sync_io_stats': None, 'async_io_stats': None, 'total_io_stats': None, 'error_details': None, 'response_code': 200, 'outputs': []}\n"
     ]
    }
   ],
   "source": [
    "print(jobs[0])"
   ]
  },
  {
   "cell_type": "markdown",
   "id": "4fc9f11f-a564-433e-ab9c-be4c31b8cdc7",
   "metadata": {},
   "source": [
    "## Test Run in the ADE"
   ]
  },
  {
   "cell_type": "code",
   "execution_count": 3,
   "id": "cf34ff88-e33f-4997-b847-54cdd82b83ae",
   "metadata": {
    "collapsed": true,
    "jupyter": {
     "outputs_hidden": true
    },
    "tags": []
   },
   "outputs": [
    {
     "name": "stdout",
     "output_type": "stream",
     "text": [
      "Retrieving notices: ...working... done\n",
      "Channels:\n",
      " - conda-forge\n",
      " - defaults\n",
      "Platform: linux-64\n",
      "Collecting package metadata (repodata.json): done\n",
      "Solving environment: done\n",
      "\n",
      "\n",
      "==> WARNING: A newer version of conda exists. <==\n",
      "    current version: 23.7.4\n",
      "    latest version: 23.11.0\n",
      "\n",
      "Please update conda by running\n",
      "\n",
      "    $ conda update -n base -c conda-forge conda\n",
      "\n",
      "\n",
      "\n",
      "Downloading and Extracting Packages\n",
      "certifi-2023.11.17   | 155 KB    |                                       |   0% \n",
      "sardem-0.11.3        | 31 KB     |                                       |   0% \u001b[A\n",
      "\n",
      "ca-certificates-2023 | 151 KB    |                                       |   0% \u001b[A\u001b[A\n",
      "\n",
      "\n",
      "openssl-3.2.0        | 2.7 MB    |                                       |   0% \u001b[A\u001b[A\u001b[A\n",
      "\n",
      "ca-certificates-2023 | 151 KB    | ###########8                          |  32% \u001b[A\u001b[A\n",
      "\n",
      "ca-certificates-2023 | 151 KB    | ##################################### | 100% \u001b[A\u001b[A\n",
      "\n",
      "\n",
      "certifi-2023.11.17   | 155 KB    | ###8                                  |  10% \u001b[A\u001b[A\u001b[A\n",
      "\n",
      "\n",
      "certifi-2023.11.17   | 155 KB    | ##############################5       |  82% \u001b[A\u001b[A\u001b[A\n",
      "sardem-0.11.3        | 31 KB     | ###################                   |  52% \u001b[A\n",
      "certifi-2023.11.17   | 155 KB    | ##################################### | 100% \u001b[A\n",
      "\n",
      "\n",
      "openssl-3.2.0        | 2.7 MB    | #########################7            |  69% \u001b[A\u001b[A\u001b[A\n",
      "\n",
      "\n",
      "openssl-3.2.0        | 2.7 MB    | ##################################### | 100% \u001b[A\u001b[A\u001b[A\n",
      "\n",
      "\n",
      "                                                                                \u001b[A\u001b[A\u001b[A\n",
      "                                                                                \u001b[A\n",
      "\n",
      "                                                                                \u001b[A\u001b[A\n",
      "\n",
      "\n",
      "                                                                                \u001b[A\u001b[A\u001b[A\n",
      "Preparing transaction: done\n",
      "Verifying transaction: done\n",
      "Executing transaction: done\n",
      "#\n",
      "# To activate this environment, use\n",
      "#\n",
      "#     $ conda activate base\n",
      "#\n",
      "# To deactivate an active environment, use\n",
      "#\n",
      "#     $ conda deactivate\n",
      "\n"
     ]
    }
   ],
   "source": [
    "# To run from the ADE, update the conda environment:\n",
    "# (For DPS, this step is handled during algorithm registration.)\n",
    "!conda env update -n base --file environment.yaml"
   ]
  },
  {
   "cell_type": "code",
   "execution_count": 15,
   "id": "ebdebc32-4fb2-44f3-9010-0a82b3d52da7",
   "metadata": {
    "tags": []
   },
   "outputs": [
    {
     "name": "stdout",
     "output_type": "stream",
     "text": [
      "[01/26 13:43:16] [INFO dem.py] Bounds: -118.06817 34.22169 -118.05801 34.22822\n",
      "[01/26 13:43:16] [INFO cop_dem.py] Creating output/dem.tif\n",
      "[01/26 13:43:16] [INFO cop_dem.py] Fetching remote tiles...\n",
      "[01/26 13:43:16] [INFO cop_dem.py] Running GDAL command:\n",
      "[01/26 13:43:16] [INFO cop_dem.py] gdalwarp /vsicurl/https://raw.githubusercontent.com/scottstanie/sardem/master/sardem/data/cop_global.vrt output/dem.tif -of GTiff -ot Int16 -te -118.068169999999995 34.2216900000000024 -118.058009999999996 34.2282200000000003 -tr 0.000277777777777777778 0.000277777777777777778 -s_srs \"epsg:4326+3855\" -t_srs \"epsg:4326\" -wo NUM_THREADS=4 -r nearest -wm 5000 -multi\n",
      "Creating output file that is 37P x 24L.\n",
      "0...10...20...30...40...50...60...70...80...90...100 - done.\n",
      "Time to make DEM: 8.959450721740723 seconds\n"
     ]
    }
   ],
   "source": [
    "# WARNING - only use for testing! Not DPS!\n",
    "import os\n",
    "from time import time\n",
    "\n",
    "# make the output directory, if it does not already exist\n",
    "# os.makedirs(\"output\")\n",
    "\n",
    "# Build a DEM\n",
    "start = time()\n",
    "\n",
    "# Do a test run via CLI.\n",
    "# DPS runs via CLI. So, use this method to ensure the\n",
    "# inputs are being passed correctly to the algorithm.\n",
    "# !./run.sh -118.06817 34.22169 -118.05801 34.22822  # small bbox; should take 7-10 seconds.\n",
    "!./run.sh {bbox}\n",
    "\n",
    "print(f\"Time to make DEM: {time()-start} seconds\")\n"
   ]
  },
  {
   "cell_type": "code",
   "execution_count": null,
   "id": "803a47d9-585e-407b-8669-852df1cde9f4",
   "metadata": {},
   "outputs": [],
   "source": []
  }
 ],
 "metadata": {
  "kernelspec": {
   "display_name": "Python 3 (ipykernel)",
   "language": "python",
   "name": "python3"
  },
  "language_info": {
   "codemirror_mode": {
    "name": "ipython",
    "version": 3
   },
   "file_extension": ".py",
   "mimetype": "text/x-python",
   "name": "python",
   "nbconvert_exporter": "python",
   "pygments_lexer": "ipython3",
   "version": "3.10.13"
  }
 },
 "nbformat": 4,
 "nbformat_minor": 5
}

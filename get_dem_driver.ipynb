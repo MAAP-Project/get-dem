{
 "cells": [
  {
   "cell_type": "markdown",
   "id": "a979d4d5",
   "metadata": {},
   "source": [
    "# Running GET-DEM\n",
    "\n",
    "This notebook allows you to do the following within the ADE:\n",
    "\n",
    "1. Run GET-DEM locally (i.e. _not_ via the DPS).\n",
    "1. Register the GET-DEM algorithm defined in this repository.\n",
    "1. Submit jobs to the DPS to run the registered algorithm.\n",
    "\n",
    "In order to use this notebook within the ADE, you must first create the `dem`\n",
    "`conda` environment, with the `--dev` option to install development\n",
    "dependencies:\n",
    "\n",
    "```plain\n",
    "./build-env.sh --dev\n",
    "```\n",
    "\n",
    "Once the `dem` `conda` environment is created with development dependencies, you\n",
    "must then install it as an `ipython kernel`:\n",
    "\n",
    "```plain\n",
    "conda run -n dem ipython kernel install --user --name dem\n",
    "```\n",
    "\n",
    "Finally, to run the cells in this notebook, you must choose the `dem` kernel."
   ]
  },
  {
   "cell_type": "markdown",
   "id": "25eeef24-436b-4528-987a-e9b295bda513",
   "metadata": {},
   "source": [
    "## Choose Bounding Box\n",
    "\n",
    "The bounding box should be a single string of four lat/lon, in the order:\n",
    "[left  bottom  right top]"
   ]
  },
  {
   "cell_type": "code",
   "execution_count": null,
   "id": "12b6aeba-3ae9-49b5-9d4b-89af20ea7871",
   "metadata": {
    "tags": []
   },
   "outputs": [],
   "source": [
    "bbox = '-118.06817 34.22169 -118.05801 34.22822'  # Mt Wilson (near JPL) (small, ~8 sec)\n",
    "# bbox = '-124.81360 32.44506 -113.75989 42.24498' # CA and NV (uses ~5-6 GB RAM, takes a few minutes to run)\n",
    "\n",
    "# Very large bbox options -- might run out of memory\n",
    "# bbox = '-125.53514 25.42150  -87.06960 49.22105' # Western US (CA, WA, Chicago, New Orleans)\n",
    "# bbox = '-125.41615 31.03621 -101.80916 49.17324' # Western US (CA -> CO)\n",
    "# bbox =    '6.26868 36.00380   18.57179 47.28139'  # Italy (Requires more than 8 GB RAM)"
   ]
  },
  {
   "cell_type": "markdown",
   "id": "4b86747d",
   "metadata": {},
   "source": [
    "## Run GET-DEM within the ADE\n",
    "\n",
    "If you want to test GET-DEM locally, before registering the algorithm or\n",
    "submitting jobs to run in the DPS, you can simply run the following, once you\n",
    "have assigned a value to `bbox` above:"
   ]
  },
  {
   "cell_type": "code",
   "execution_count": null,
   "id": "ebdebc32-4fb2-44f3-9010-0a82b3d52da7",
   "metadata": {
    "tags": []
   },
   "outputs": [],
   "source": [
    "from time import time\n",
    "\n",
    "# Build a DEM\n",
    "start = time()\n",
    "\n",
    "# IMPORTANT: The run.sh script expects EXACTLY 3 arguments: bbox, compute, and\n",
    "# scalene_args.  This is because the DPS will always call the run.sh script with\n",
    "# exactly 3 arguments, as defined in algorithm_config.yml.  This is true even if\n",
    "# some inputs are not supplied during job submission.\n",
    "\n",
    "# THEREFORE, if you want to supply only the bbox, you must still supply the\n",
    "# other arguments as empty strings (empty quotes).  The run.sh script will\n",
    "# handle this correctly.  ALSO, the 4 values of the bbox must be separated by\n",
    "# spaces, not commas, and the entire string must be enclosed in quotes.\n",
    "\n",
    "# Do a test run via CLI to ensure input arguments are passed correctly to the algorithm.\n",
    "# !./run.sh \"-118.06817 34.22169 -118.05801 34.22822\" \"\" \"\"  # small bbox; should take 7-10 seconds.\n",
    "\n",
    "# Hint: Make sure to initialize `bbox` above. Otherwise will error.\n",
    "!./run.sh \"{bbox}\" \"--compute\" \"\"\n",
    "# !./run.sh \"{bbox}\" \"\" \"\"\n",
    "\n",
    "print(f\"Time to make DEM: {time()-start} seconds\")"
   ]
  },
  {
   "cell_type": "markdown",
   "id": "597180e7",
   "metadata": {},
   "source": [
    "## Initialize MAAP\n",
    "\n",
    "You must create a `MAAP` instance in order to either regsiter the algorithm or\n",
    "submit jobs."
   ]
  },
  {
   "cell_type": "code",
   "execution_count": null,
   "id": "2fe4b4f7-7ebb-45c8-9327-f16be0304b3c",
   "metadata": {
    "tags": []
   },
   "outputs": [],
   "source": [
    "from maap.maap import MAAP\n",
    "import get_dem\n",
    "\n",
    "maap = MAAP(maap_host=\"api.maap-project.org\")\n",
    "username = maap.profile.account_info()[\"username\"]"
   ]
  },
  {
   "cell_type": "markdown",
   "id": "9dd45a99",
   "metadata": {},
   "source": [
    "## Register the Algorithm\n",
    "\n",
    "Whenever you modify the code in `get_dem.py` or the algorithm configuration in\n",
    "`algorithm_config.yml`, you must register the algorithm in order to run the\n",
    "new code as a DPS job.\n",
    "\n",
    "However, before doing so, you should update the following places where the\n",
    "algorithm's version appears:\n",
    "\n",
    "- `algorithm_version` within `algorithm_config.yml`\n",
    "- `__version__` within `get_dem.py`\n",
    "\n",
    "**NOTE:** You should change both to the _same_ value.\n",
    "\n",
    "**NOTE:** If you attempt to re-register a version of the algorithm that has\n",
    "already been registered, you will receive a \"500\" error.  Although it is\n",
    "possible for a \"500\" error to indicate some other problem with the server, in\n",
    "this case, it likely means that the version of the algorithm is already\n",
    "registered.  It's a known issue that the server should instead return an\n",
    "appropriate message indicating the problem, rather than a general \"500\" error\n",
    "without any details."
   ]
  },
  {
   "cell_type": "code",
   "execution_count": null,
   "id": "0d97a875-1c6e-4712-8bdd-d59410c48ca9",
   "metadata": {
    "tags": []
   },
   "outputs": [],
   "source": [
    "# Register Algorithm from YAML file\n",
    "\n",
    "# maap.register_algorithm_from_yaml_file(\"algorithm_config.yml\")"
   ]
  },
  {
   "cell_type": "markdown",
   "id": "dffda12c",
   "metadata": {},
   "source": [
    "## Submit Job(s)"
   ]
  },
  {
   "cell_type": "code",
   "execution_count": null,
   "id": "e0c58b88",
   "metadata": {},
   "outputs": [],
   "source": [
    "# Number of DPS jobs to launch\n",
    "num_DPS_jobs = 2\n",
    "\n",
    "# True to perform compute-intensive computations\n",
    "run_compute = True\n",
    "\n",
    "# Submit DPS Jobs\n",
    "jobs = [\n",
    "    maap.submitJob(\n",
    "        identifier=f\"GET-DEM-{get_dem.__version__}-{i}\",  # create a unique job identifier\n",
    "        algo_id=\"GET-DEM\",  # Name of the registered algorithm\n",
    "        version=get_dem.__version__,\n",
    "        username=username,\n",
    "        queue=\"maap-dps-worker-32vcpu-64gb\",\n",
    "        # for benchmarking consistency, use same bbox for all jobs\n",
    "        bbox=bbox,\n",
    "        # TODO: Is there a cleaner design for specifying CLI flags for DPS jobs?\n",
    "        compute=\"--compute\" if run_compute else \"\",\n",
    "    )\n",
    "    for i in range(num_DPS_jobs)\n",
    "]"
   ]
  },
  {
   "cell_type": "markdown",
   "id": "8a7989a4",
   "metadata": {},
   "source": [
    "## Check Job Status(es)"
   ]
  },
  {
   "cell_type": "code",
   "execution_count": null,
   "id": "bca234c0-c69d-48c8-be4b-ce75e176cce3",
   "metadata": {
    "tags": []
   },
   "outputs": [],
   "source": [
    "# Monitor the job status via JN.\n",
    "# For a GUI, go to \"View and Submit Jobs\" via the Launcher\n",
    "n_failed = 0\n",
    "n_succeeded = 0\n",
    "n_running = 0\n",
    "n_except = 0\n",
    "n_accepted = 0\n",
    "\n",
    "for j in jobs:\n",
    "    try:\n",
    "        j.retrieve_attributes()\n",
    "    except:\n",
    "        n_except += 1\n",
    "        continue\n",
    "    if j.status.lower() == 'failed':\n",
    "        n_failed += 1\n",
    "    elif j.status.lower() == 'succeeded':\n",
    "        n_succeeded += 1\n",
    "    elif j.status.lower() == 'running':\n",
    "        n_running += 1\n",
    "    elif j.status.lower() == 'accepted':\n",
    "        n_accepted += 1\n",
    "    else:\n",
    "        print(j.status)\n",
    "\n",
    "print(\"failed: \", n_failed)\n",
    "print(\"accepted: \", n_accepted)\n",
    "print(\"running: \", n_running)\n",
    "print(\"succeeded: \", n_succeeded)\n",
    "print(\"except: \", n_except)"
   ]
  },
  {
   "cell_type": "code",
   "execution_count": null,
   "id": "504f0103-e92c-428c-93e1-88837aa44b8d",
   "metadata": {
    "tags": []
   },
   "outputs": [],
   "source": [
    "print(type(jobs[0]))\n",
    "print(jobs[0])"
   ]
  }
 ],
 "metadata": {
  "kernelspec": {
   "display_name": "Python 3 (ipykernel)",
   "language": "python",
   "name": "python3"
  },
  "language_info": {
   "codemirror_mode": {
    "name": "ipython",
    "version": 3
   },
   "file_extension": ".py",
   "mimetype": "text/x-python",
   "name": "python",
   "nbconvert_exporter": "python",
   "pygments_lexer": "ipython3",
   "version": "3.12.1"
  }
 },
 "nbformat": 4,
 "nbformat_minor": 5
}
